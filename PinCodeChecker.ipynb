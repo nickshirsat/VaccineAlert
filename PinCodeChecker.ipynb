{
 "cells": [
  {
   "cell_type": "code",
   "execution_count": 1,
   "metadata": {},
   "outputs": [],
   "source": [
    "import requests\n",
    "import json\n",
    "from pprint import pprint\n",
    "from datetime import datetime,time\n",
    "import time as sleep\n",
    "import sys\n",
    "from configparser import ConfigParser\n",
    "from requests.auth import HTTPBasicAuth\n",
    "from urllib.parse import quote_plus"
   ]
  },
  {
   "cell_type": "code",
   "execution_count": null,
   "metadata": {},
   "outputs": [],
   "source": [
    "pin_list = []\n",
    "\n",
    "def getPinCodes(pin,end):\n",
    "    while(pin <= end):\n",
    "        try:\n",
    "            url = \"https://api.postalpincode.in/pincode/\"+str(pin)\n",
    "            headers = {'User-Agent': \"Mozilla/5.0 (Windows NT 10.0; Win64; x64) AppleWebKit/537.36 (KHTML, like Gecko) Chrome/90.0.4430.93 Safari/537.36\"}\n",
    "            response = requests.get(url, headers=headers)\n",
    "            response = response.content.decode()\n",
    "            jsonData = json.loads(response)\n",
    "            for pincode in jsonData:\n",
    "                if(pincode['Status'] == \"Success\"):\n",
    "                    print(pin)\n",
    "                    print(pincode['Status'])\n",
    "                    pin_list.append(pin)\n",
    "        except:\n",
    "            print(sys.exc_info())\n",
    "        pin += 1\n",
    "        print(pin_list)\n",
    "        "
   ]
  },
  {
   "cell_type": "code",
   "execution_count": null,
   "metadata": {},
   "outputs": [],
   "source": [
    "# getPinCodes(422000, 422999)"
   ]
  }
 ],
 "metadata": {
  "kernelspec": {
   "display_name": "Python 3",
   "language": "python",
   "name": "python3"
  },
  "language_info": {
   "codemirror_mode": {
    "name": "ipython",
    "version": 3
   },
   "file_extension": ".py",
   "mimetype": "text/x-python",
   "name": "python",
   "nbconvert_exporter": "python",
   "pygments_lexer": "ipython3",
   "version": "3.8.5"
  }
 },
 "nbformat": 4,
 "nbformat_minor": 4
}
