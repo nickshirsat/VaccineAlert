{
 "cells": [
  {
   "cell_type": "code",
   "execution_count": null,
   "id": "inner-execution",
   "metadata": {},
   "outputs": [],
   "source": [
    "import requests\n",
    "import json\n",
    "from pprint import pprint\n",
    "from datetime import datetime,time\n",
    "import time as sleep\n",
    "import sys\n",
    "from configparser import ConfigParser\n"
   ]
  },
  {
   "cell_type": "code",
   "execution_count": null,
   "id": "rubber-attitude",
   "metadata": {},
   "outputs": [],
   "source": [
    "configur = ConfigParser() \n",
    "configur.read('config.ini')\n",
    "\n",
    "# Telegram setup\n",
    "bot_token = configur.get('telegram', 'bot_token')\n",
    "bot_chatID = configur.get('telegram', 'bot_chatID')\n",
    "\n",
    "#District data\n",
    "state = configur.get('data', 'state')\n",
    "districts = json.loads(configur.get('data', 'districts'))\n",
    "pincodes = json.loads(configur.get('data', 'pincodes'))\n"
   ]
  },
  {
   "cell_type": "code",
   "execution_count": null,
   "id": "powered-bruce",
   "metadata": {},
   "outputs": [],
   "source": [
    "def sendMsg(name,address,vaccine,v_count,age):\n",
    "    msg = \"ALERT! Slot available!\\nName: \" + str(name) + \"\\nAddress : \" + str(address) + \"\\nVaccine : \" + str(vaccine) + \"\\nAge : \" + str(age) + \"\\nTotal Slots : \" + str(v_count)\n",
    "    send_text = 'https://api.telegram.org/bot' + bot_token + '/sendMessage?chat_id=' + bot_chatID + '&text=' + msg\n",
    "    response = requests.get(send_text)\n",
    "    return response.json()"
   ]
  },
  {
   "cell_type": "code",
   "execution_count": null,
   "id": "corrected-cross",
   "metadata": {},
   "outputs": [],
   "source": [
    "def getStateId(name):\n",
    "    s_id = 21\n",
    "    try:\n",
    "        url = \"https://cdn-api.co-vin.in/api/v2/admin/location/states\"\n",
    "        headers = {'User-Agent': \"Mozilla/5.0 (Windows NT 10.0; Win64; x64) AppleWebKit/537.36 (KHTML, like Gecko) Chrome/90.0.4430.93 Safari/537.36\"}\n",
    "        response = requests.get(url, headers=headers)\n",
    "        response = response.content.decode()\n",
    "        jsonData = json.loads(response)\n",
    "        for state in jsonData['states']:\n",
    "            if (state['state_name'].upper() == name.upper()):\n",
    "                s_id = state['state_id']\n",
    "    except:\n",
    "        print(sys.exc_info())\n",
    "    return s_id"
   ]
  },
  {
   "cell_type": "code",
   "execution_count": null,
   "id": "apparent-seller",
   "metadata": {},
   "outputs": [],
   "source": [
    "def getDistrictId(s_name,d_name):\n",
    "    s_id = getStateId(s_name);\n",
    "    d_id = [];\n",
    "    \n",
    "    try:\n",
    "        url = \"https://cdn-api.co-vin.in/api/v2/admin/location/districts/\"+str(s_id)\n",
    "        headers = {'User-Agent': \"Mozilla/5.0 (Windows NT 10.0; Win64; x64) AppleWebKit/537.36 (KHTML, like Gecko) Chrome/90.0.4430.93 Safari/537.36\"}\n",
    "        response = requests.get(url, headers=headers)\n",
    "        response = response.content.decode()\n",
    "        jsonData = json.loads(response)\n",
    "        for d in d_name:\n",
    "            for district in jsonData['districts']:\n",
    "                if (district['district_name'].upper() == d.upper()):\n",
    "                    d_id.append(district['district_id'])\n",
    "    except:\n",
    "        print(sys.exc_info())\n",
    "    return d_id\n"
   ]
  },
  {
   "cell_type": "code",
   "execution_count": null,
   "id": "working-cooling",
   "metadata": {},
   "outputs": [],
   "source": [
    "def checkSlotsByPin(pincode):\n",
    "    try:\n",
    "        today = datetime.now().date().strftime('%d-%m-%Y');\n",
    "        url = \"https://cdn-api.co-vin.in/api/v2/appointment/sessions/calendarByPin?pincode=\"+str(pincode)+\"&date=\"+str(today)\n",
    "\n",
    "        headers = {'User-Agent': \"Mozilla/5.0 (Windows NT 10.0; Win64; x64) AppleWebKit/537.36 (KHTML, like Gecko) Chrome/90.0.4430.93 Safari/537.36\"}\n",
    "        response = requests.get(url, headers=headers)\n",
    "#         print(response)\n",
    "        response = response.content.decode()\n",
    "        jsonData = json.loads(response)\n",
    "        jsonData = jsonData['centers']\n",
    "        \n",
    "        for center in jsonData:\n",
    "            centerName = center['name']\n",
    "            address = center['address']\n",
    "            for sessions in center['sessions']:\n",
    "                if (today == sessions['date']):\n",
    "                    if(sessions['available_capacity'] > 0):\n",
    "                        if center['center_id'] in entry_list:\n",
    "                            print('center already alerted')\n",
    "                        else:\n",
    "                            entry_list.append(center['center_id'])\n",
    "                            sendMsg(centerName,address,sessions['vaccine'],sessions['available_capacity'],sessions['min_age_limit'])\n",
    "                            print(centerName,address,sessions['vaccine'],sessions['available_capacity'],sessions['min_age_limit'])\n",
    "    except:\n",
    "        print(sys.exc_info())"
   ]
  },
  {
   "cell_type": "code",
   "execution_count": null,
   "id": "theoretical-adjustment",
   "metadata": {},
   "outputs": [],
   "source": [
    "def checkSlotsByDistrict(s_name, d_name):\n",
    "    ids = getDistrictId(s_name, d_name)\n",
    "    for d_id in ids: \n",
    "        try:\n",
    "            today = datetime.now().date().strftime('%d-%m-%Y');\n",
    "            url = \"https://cdn-api.co-vin.in/api/v2/appointment/sessions/calendarByDistrict?district_id=\"+str(d_id)+\"&date=\"+str(today)\n",
    "\n",
    "            headers = {'User-Agent': \"Mozilla/5.0 (Windows NT 10.0; Win64; x64) AppleWebKit/537.36 (KHTML, like Gecko) Chrome/90.0.4430.93 Safari/537.36\"}\n",
    "            response = requests.get(url, headers=headers)\n",
    "#             print(response)\n",
    "            response = response.content.decode()\n",
    "            jsonData = json.loads(response)\n",
    "            jsonData = jsonData['centers']\n",
    "\n",
    "#             pprint(jsonData)\n",
    "            for center in jsonData:\n",
    "                centerName = center['name']\n",
    "                address = center['address']\n",
    "                for sessions in center['sessions']:\n",
    "                    if (today == sessions['date']):\n",
    "                        if(sessions['available_capacity'] > 0):\n",
    "                            if center['center_id'] in entry_list:\n",
    "                                print('center already alerted')\n",
    "                            else:\n",
    "                                entry_list.append(center['center_id'])\n",
    "                                sendMsg(centerName,address,sessions['vaccine'],sessions['available_capacity'],sessions['min_age_limit'])\n",
    "                                print(centerName,address,sessions['vaccine'],sessions['available_capacity'],sessions['min_age_limit'])\n",
    "#             print(\"loop\")\n",
    "        except:\n",
    "            print(sys.exc_info())"
   ]
  },
  {
   "cell_type": "code",
   "execution_count": null,
   "id": "headed-august",
   "metadata": {
    "scrolled": true
   },
   "outputs": [],
   "source": [
    "done = False\n",
    "i = 1\n",
    "while not done:\n",
    "    now = datetime.now().time()\n",
    "    entry_list = []\n",
    "    \n",
    "    if(now > time(10,00) and now < time(23,00)):\n",
    "#         print(\"By Pin\")\n",
    "        for pin in pincodes:\n",
    "#             print(pin)\n",
    "            checkSlotsByPin(pin)\n",
    "#         print(\"By District\")\n",
    "        checkSlotsByDistrict(state,districts)\n",
    "        print(\"loop : \" + str(i) + \" Time : \" + str(now))\n",
    "        i += 1\n",
    "        print(entry_list)\n",
    "        sleep.sleep(5)\n",
    "    else:\n",
    "        done = True"
   ]
  }
 ],
 "metadata": {
  "kernelspec": {
   "display_name": "Python 3",
   "language": "python",
   "name": "python3"
  },
  "language_info": {
   "codemirror_mode": {
    "name": "ipython",
    "version": 3
   },
   "file_extension": ".py",
   "mimetype": "text/x-python",
   "name": "python",
   "nbconvert_exporter": "python",
   "pygments_lexer": "ipython3",
   "version": "3.8.8"
  }
 },
 "nbformat": 4,
 "nbformat_minor": 5
}
